{
 "cells": [
  {
   "cell_type": "markdown",
   "metadata": {},
   "source": [
    "# Question Classifier - A Rule Based Approach"
   ]
  },
  {
   "cell_type": "markdown",
   "metadata": {},
   "source": [
    "<b>Why Rule Based?</b><br>\n",
    "I have used the rule based approach since here the cases/vocabulary is limited.<br>\n",
    "Pattern matching using <b>regex</b> would definetly do a better job than using ml/dl models trained on a typically small dataset<br>\n",
    "\n",
    "ML/ DL models could be used when it becomes very difficult to cover all the cases. Here, the cases are limited. ML/DL models would also require a large dataset having million datapoints to typically perform well <br>\n"
   ]
  },
  {
   "cell_type": "markdown",
   "metadata": {},
   "source": [
    "Task:-<br>\n",
    "Build a question classifier model that takes a sentence as input and predict whether the statement is a question or not.<br>\n",
    "For example:<br>\n",
    "statement: do you like food?<br>\n",
    "predicted_question : 1<br>\n",
    "statement: The boy who sat beside him was his son.<br>\n",
    "predicted_question : 0<br>"
   ]
  },
  {
   "cell_type": "markdown",
   "metadata": {},
   "source": [
    "Here our model's name is <b>predictor()</b>.<br>\n",
    "<b>predictor(sentence)</b> is basically a function that takes a sentence as an input<br>\n",
    "You need to keep calling the function predictor() by passing a string to it.<br>\n",
    "\n",
    "<b>Output</b>: predicted_question:1 if the sentence is a question <br>\n",
    "                  predicted_question:0 if the senetnce is just a statement.<br>\n",
    "\n",
    "\n",
    "\n"
   ]
  },
  {
   "cell_type": "code",
   "execution_count": 1,
   "metadata": {},
   "outputs": [],
   "source": [
    "import re\n",
    "\n",
    "head_words=['who','which','what','where','when','how','why','whose','is']\n",
    "\n",
    "before_prep=['are','did','may','shall','will','could','do','is','would','should','shouldn\\'t','couldn\\'t','wouldn\\'t','isn\\'t','aren\\'t','arent','couldnt','wouldnt','isnt','shouldnt','don\\'t']\n",
    "prepositions=['i','we','us','you','your','them','they','he','she','these','those','their','someone','somebody','it']\n",
    "\n",
    "sub_words=['which','what','where','when','how','why','whose']\n",
    "\n",
    "\n",
    "\n",
    "compiled_words=re.compile(r'\\b(?:%s)\\b' % '|'.join(head_words))\n",
    "\n",
    "compiled_sub_words=re.compile(r'\\b(?:%s)\\b' % '|'.join(sub_words))\n",
    "\n",
    "\n",
    "def cleanpunc(sentence): #function to clean the word of any punctuation or special characters\n",
    "    cleaned = re.sub(r'[\\.|!|\"|#]',r' ',sentence)\n",
    "    cleaned = re.sub(r'[\\.|,|)|(|\\|/]',r' ',cleaned)\n",
    "    return  cleaned\n",
    "\n",
    "\n",
    "def predictor(sentence):\n",
    "    \n",
    "    sentence=sentence.lower()\n",
    "    sentence=cleanpunc(sentence)\n",
    "    \n",
    "\n",
    "    #Matching the head of the string with head_words\n",
    "    result1=compiled_words.match(sentence)\n",
    "    \n",
    "    #Matching subwords\n",
    "    result2=compiled_sub_words.search(sentence)\n",
    "    \n",
    "    \n",
    "    if type(result1).__name__ != \"NoneType\":\n",
    "        return 1\n",
    "    \n",
    "    \n",
    "    elif type(result2).__name__ != \"NoneType\":\n",
    "        return 1\n",
    "    \n",
    "    elif questions_before_prep(sentence):\n",
    "        return 1\n",
    "    \n",
    "    elif \"?\" in sentence:\n",
    "        return 1\n",
    "    \n",
    "    else:\n",
    "        return 0\n",
    "    \n",
    "  \n",
    "    \n",
    "    \n",
    "    \n",
    "    \n",
    "    \n",
    "    \n",
    "\n",
    "\n",
    "\n",
    "  \n"
   ]
  },
  {
   "cell_type": "code",
   "execution_count": 2,
   "metadata": {},
   "outputs": [],
   "source": [
    "def questions_before_prep(sentence): #This function is used to check for prepositions after questioning words\n",
    "    compiled_before_prep=re.compile(r'%s\\b' % '|'.join(before_prep))\n",
    "    compiled_prep=re.compile(r'%s\\b' % '|'.join(prepositions))\n",
    "    \n",
    "    \n",
    "   \n",
    "    \n",
    "    ans=False\n",
    "    \n",
    "    result4=compiled_before_prep.findall(sentence)\n",
    "    result_prep=compiled_prep.findall(sentence)\n",
    "   \n",
    " \n",
    "   \n",
    "    s=0\n",
    "    i=0\n",
    "    \n",
    "    \n",
    "    if len(result4)>0:\n",
    "        \n",
    "        for w in result4:\n",
    "            \n",
    "            in1=sentence.find(w,i)\n",
    "            i=in1+len(w)\n",
    "            \n",
    "           \n",
    "        \n",
    "            j=0\n",
    "            if len(result_prep)>0:\n",
    "            \n",
    "                for word in result_prep:\n",
    "                    s=0\n",
    "                    \n",
    "                    in2=sentence.find(word,j)\n",
    "                    j=in2+len(word)\n",
    "                    \n",
    "              \n",
    "                    if in2>in1:\n",
    "                        space=sentence[in1+len(w):in2]\n",
    "                    \n",
    "                        space_result=re.match(r'\\s*',space)\n",
    "                        s=in1+len(w)+len(space_result.group(0))\n",
    "                        \n",
    "                      \n",
    "                        if type(space_result).__name__ != \"NoneType\":\n",
    "                            if s==in2:\n",
    "                                ans=True\n",
    "                                break\n",
    "                        \n",
    "                        else:\n",
    "                            ans=False\n",
    "                     \n",
    "                \n",
    "            else:\n",
    "                ans=False\n",
    "        \n",
    "                    \n",
    "                    \n",
    "        \n",
    "    else:\n",
    "        ans=False\n",
    "        \n",
    "    return ans\n",
    "    \n",
    "            \n",
    "            \n",
    "    "
   ]
  },
  {
   "cell_type": "markdown",
   "metadata": {},
   "source": [
    "# Cases covered"
   ]
  },
  {
   "cell_type": "markdown",
   "metadata": {},
   "source": [
    "1) Sentences starting with who, which, what, where, when, how, why, whose, shouldn\\'t, couldn\\'t, wouldn\\'t, isn\\'t, aren\\'t, arent, couldnt, wouldnt, isnt, shouldnt, don\\'t.<br>\n",
    "\n",
    "2) Sentences having questioning words before preposition. This is a rule in grammar for asking questions<br>\n",
    "    example:-<br> a) Shouldn't we go out?<br>\n",
    "             b) Is it raining<br>\n",
    "             c) Neha is alone at home. Could you pick her up<br>\n",
    "             d) Hi!!! I'm Wysa. May I know your name?<br>\n",
    "             <b>Notice:</b> Some of the questions don't have a question mark in them<br>\n",
    "             \n",
    "3) Sentences having a number of punctions will also be classified as a questionnare or a statement<br>\n",
    "    example:- <br>\n",
    "      a) Hey Jimmmy...........How are you?<br>\n",
    "      b) Hey Wysa!!!!!! I would like to meet you.<br>\n",
    "      c) I'm not well,,,,,,                could you suggest me some medicines.<br>\n",
    "      \n",
    "4) The classifier should understand the difference between interchanged words. This also has been taken care of\n",
    "   example:-<br>\n",
    "   a) It is raining.<br>\n",
    "   b) Is it raining.<br>\n",
    "    \n",
    "5) It is not necessary that the starting word in a sentence should be a questioning word. It could be a normal sentence and then    it could have a question in it.<br>\n",
    "    example:-<br>\n",
    "    a) It's raining heavily outside, I wanted to leave, should I<br>\n",
    "    b) Raju is at home, where is Hari<br>\n"
   ]
  },
  {
   "cell_type": "code",
   "execution_count": 3,
   "metadata": {},
   "outputs": [
    {
     "name": "stdout",
     "output_type": "stream",
     "text": [
      "predicted_question: 1\n"
     ]
    }
   ],
   "source": [
    "\n",
    "print(\"predicted_question:\",predictor(\"Hey Jimmmy...........How are you?\"))\n"
   ]
  },
  {
   "cell_type": "code",
   "execution_count": 4,
   "metadata": {},
   "outputs": [
    {
     "name": "stdout",
     "output_type": "stream",
     "text": [
      "predicted_question: 1\n"
     ]
    }
   ],
   "source": [
    "print(\"predicted_question:\",predictor(\"Are you fine\"))"
   ]
  },
  {
   "cell_type": "code",
   "execution_count": 5,
   "metadata": {},
   "outputs": [
    {
     "name": "stdout",
     "output_type": "stream",
     "text": [
      "predicted_question: 0\n"
     ]
    }
   ],
   "source": [
    "print(\"predicted_question:\",predictor(\"Marry is fine\"))"
   ]
  },
  {
   "cell_type": "code",
   "execution_count": 6,
   "metadata": {},
   "outputs": [
    {
     "name": "stdout",
     "output_type": "stream",
     "text": [
      "predicted_question: 0\n"
     ]
    }
   ],
   "source": [
    "print(\"predicted_question:\",predictor(\"The boy is playing with his toys\"))"
   ]
  },
  {
   "cell_type": "code",
   "execution_count": 7,
   "metadata": {},
   "outputs": [
    {
     "name": "stdout",
     "output_type": "stream",
     "text": [
      "predicted_question: 0\n"
     ]
    }
   ],
   "source": [
    "print(\"predicted_question:\",predictor(\"It's raining outside. I think I should leave.\"))"
   ]
  },
  {
   "cell_type": "code",
   "execution_count": 8,
   "metadata": {},
   "outputs": [
    {
     "name": "stdout",
     "output_type": "stream",
     "text": [
      "predicted_question: 1\n"
     ]
    }
   ],
   "source": [
    "print(\"predicted_question:\",predictor(\"It's raining outside. I think I should leave. Should I\"))"
   ]
  },
  {
   "cell_type": "code",
   "execution_count": 9,
   "metadata": {},
   "outputs": [
    {
     "name": "stdout",
     "output_type": "stream",
     "text": [
      "predicted_question: 1\n"
     ]
    }
   ],
   "source": [
    "print(\"predicted_question:\",predictor(\"Hi!!! I'm Wysa. May I know your name\"))"
   ]
  },
  {
   "cell_type": "code",
   "execution_count": 10,
   "metadata": {},
   "outputs": [
    {
     "name": "stdout",
     "output_type": "stream",
     "text": [
      "predicted_question: 0\n"
     ]
    }
   ],
   "source": [
    "print(\"predicted_question:\",predictor(\"Hi!!! I'm Wysa.\"))"
   ]
  },
  {
   "cell_type": "code",
   "execution_count": 11,
   "metadata": {},
   "outputs": [
    {
     "name": "stdout",
     "output_type": "stream",
     "text": [
      "predicted_question: 1\n"
     ]
    }
   ],
   "source": [
    "print(\"predicted_question:\",predictor(\"Neha is alone at home. Could you pick her up\"))\n",
    "\n"
   ]
  },
  {
   "cell_type": "code",
   "execution_count": 12,
   "metadata": {},
   "outputs": [
    {
     "name": "stdout",
     "output_type": "stream",
     "text": [
      "predicted_question: 1\n"
     ]
    }
   ],
   "source": [
    "print(\"predicted_question:\",predictor(\"Is it raining\"))"
   ]
  },
  {
   "cell_type": "code",
   "execution_count": 13,
   "metadata": {},
   "outputs": [
    {
     "name": "stdout",
     "output_type": "stream",
     "text": [
      "predicted_question: 0\n"
     ]
    }
   ],
   "source": [
    "print(\"predicted_question:\",predictor(\"It is raining\"))"
   ]
  },
  {
   "cell_type": "code",
   "execution_count": 14,
   "metadata": {},
   "outputs": [
    {
     "name": "stdout",
     "output_type": "stream",
     "text": [
      "predicted_question: 1\n"
     ]
    }
   ],
   "source": [
    "print(\"predicted_question:\",predictor(\"Your name is Rishabh.....Is it\"))"
   ]
  },
  {
   "cell_type": "code",
   "execution_count": 15,
   "metadata": {},
   "outputs": [
    {
     "name": "stdout",
     "output_type": "stream",
     "text": [
      "predicted_question: 1\n"
     ]
    }
   ],
   "source": [
    "print(\"predicted_question:\",predictor(\"Raju is at home, where is Hari\"))\n",
    "\n"
   ]
  },
  {
   "cell_type": "code",
   "execution_count": 16,
   "metadata": {},
   "outputs": [
    {
     "name": "stdout",
     "output_type": "stream",
     "text": [
      "predicted_question: 1\n"
     ]
    }
   ],
   "source": [
    "print(\"predicted_question:\",predictor(\"I'm not well,,,,,, could you suggest me some medicines.\"))\n",
    "\n"
   ]
  },
  {
   "cell_type": "code",
   "execution_count": 17,
   "metadata": {},
   "outputs": [
    {
     "name": "stdout",
     "output_type": "stream",
     "text": [
      "predicted_question: 1\n"
     ]
    }
   ],
   "source": [
    "print(\"predicted_question:\",predictor(\"do you like food?\"))"
   ]
  },
  {
   "cell_type": "code",
   "execution_count": 18,
   "metadata": {},
   "outputs": [
    {
     "name": "stdout",
     "output_type": "stream",
     "text": [
      "predicted_question: 0\n"
     ]
    }
   ],
   "source": [
    "print(\"predicted_question:\",predictor(\"The boy who sat beside him was his son.\"))\n"
   ]
  },
  {
   "cell_type": "code",
   "execution_count": 19,
   "metadata": {},
   "outputs": [
    {
     "name": "stdout",
     "output_type": "stream",
     "text": [
      "predicted_question: 0\n"
     ]
    }
   ],
   "source": [
    "print(\"predicted_question:\",predictor(\"My name is Rishabh..I'm looking for summer internship in the field of Machine Learning\"))"
   ]
  },
  {
   "cell_type": "code",
   "execution_count": 20,
   "metadata": {},
   "outputs": [
    {
     "name": "stdout",
     "output_type": "stream",
     "text": [
      "predicted_question: 0\n"
     ]
    }
   ],
   "source": [
    "print(\"predicted_question:\",predictor(\"Machine learning is an application of artificial intelligence (AI) that provides systems the ability to automatically learn and improve from experience without being explicitly programmed. Machine learning focuses on the development of computer programs that can access data and use it learn for themselves.\"))"
   ]
  },
  {
   "cell_type": "code",
   "execution_count": null,
   "metadata": {},
   "outputs": [],
   "source": []
  },
  {
   "cell_type": "code",
   "execution_count": null,
   "metadata": {},
   "outputs": [],
   "source": []
  },
  {
   "cell_type": "code",
   "execution_count": null,
   "metadata": {},
   "outputs": [],
   "source": []
  }
 ],
 "metadata": {
  "kernelspec": {
   "display_name": "Python 3",
   "language": "python",
   "name": "python3"
  },
  "language_info": {
   "codemirror_mode": {
    "name": "ipython",
    "version": 3
   },
   "file_extension": ".py",
   "mimetype": "text/x-python",
   "name": "python",
   "nbconvert_exporter": "python",
   "pygments_lexer": "ipython3",
   "version": "3.7.0"
  }
 },
 "nbformat": 4,
 "nbformat_minor": 2
}
